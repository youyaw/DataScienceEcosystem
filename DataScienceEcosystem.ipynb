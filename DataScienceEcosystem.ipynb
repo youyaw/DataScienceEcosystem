{
  "nbformat": 4,
  "nbformat_minor": 0,
  "metadata": {
    "colab": {
      "provenance": []
    },
    "kernelspec": {
      "name": "python3",
      "display_name": "Python 3"
    },
    "language_info": {
      "name": "python"
    }
  },
  "cells": [
    {
      "cell_type": "markdown",
      "source": [
        "# **Data Science Tools and Ecosystem**"
      ],
      "metadata": {
        "id": "yrWhKSWtb2ye"
      }
    },
    {
      "cell_type": "markdown",
      "source": [
        "In this notebook, Data Science Tools and Ecosystem are summarized."
      ],
      "metadata": {
        "id": "Fi9jCaZYcN0E"
      }
    },
    {
      "cell_type": "markdown",
      "source": [
        "**Objectives:**\n",
        "\n",
        "\n",
        "\n",
        "*   List of some popular languages.\n",
        "*   List of some commonly used libraries.\n",
        "*   Some open source tools for Data Science.\n",
        "*   Examples of arithmetic expressions in Python.\n",
        "\n",
        "\n",
        "\n"
      ],
      "metadata": {
        "id": "m1NEuVKliE1e"
      }
    },
    {
      "cell_type": "markdown",
      "source": [
        "Some of the popular languages that Data Scientists use are:\n",
        "\n",
        "\n",
        "\n",
        "1.   Python\n",
        "2.   R\n",
        "3.   SQL\n",
        "4.   Julia\n",
        "\n",
        "\n",
        "\n"
      ],
      "metadata": {
        "id": "va-G4tiCcaZt"
      }
    },
    {
      "cell_type": "markdown",
      "source": [
        "Some of the commonly used libraries used by Data Scientists include:\n",
        "\n",
        "\n",
        "\n",
        "1.   Pandas\n",
        "2.   Matplotlib\n",
        "3.   SciPy\n",
        "4.   Scikit-learn\n",
        "5.   Plotly\n",
        "\n",
        "\n"
      ],
      "metadata": {
        "id": "KPU-bXaRcxWX"
      }
    },
    {
      "cell_type": "markdown",
      "source": [
        "| **Data Science Tools** |\n",
        "---\n",
        "| Rstudio |\n",
        "| Jupyter Notebook/Lab |\n",
        "| Git and Github |\n"
      ],
      "metadata": {
        "id": "tbO6XlajdltP"
      }
    },
    {
      "cell_type": "markdown",
      "source": [
        "### Below are a few examples of evaluating arithmetic expressions in Python"
      ],
      "metadata": {
        "id": "k63PGVlHhMaO"
      }
    },
    {
      "cell_type": "code",
      "source": [
        "# This a simple arithmetic expression to mutiply then add integers\n",
        "(3*4)+5"
      ],
      "metadata": {
        "colab": {
          "base_uri": "https://localhost:8080/"
        },
        "id": "eYIDseNChXyH",
        "outputId": "b7e93773-862c-400c-b380-743b2af07d02"
      },
      "execution_count": 1,
      "outputs": [
        {
          "output_type": "execute_result",
          "data": {
            "text/plain": [
              "17"
            ]
          },
          "metadata": {},
          "execution_count": 1
        }
      ]
    },
    {
      "cell_type": "code",
      "source": [
        "# This will convert 200 minutes to hours by diving by 60\n",
        "200/60"
      ],
      "metadata": {
        "colab": {
          "base_uri": "https://localhost:8080/"
        },
        "id": "6LPxeJHlhqRS",
        "outputId": "82822a10-7944-4e9e-ba72-9c64bb6e0958"
      },
      "execution_count": 2,
      "outputs": [
        {
          "output_type": "execute_result",
          "data": {
            "text/plain": [
              "3.3333333333333335"
            ]
          },
          "metadata": {},
          "execution_count": 2
        }
      ]
    },
    {
      "cell_type": "markdown",
      "source": [
        "## Author\n",
        "\n",
        "Youness Nait Oufkir"
      ],
      "metadata": {
        "id": "SnRMsjfRhPrW"
      }
    }
  ]
}